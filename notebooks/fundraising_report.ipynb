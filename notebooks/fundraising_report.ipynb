{
 "cells": [
  {
   "cell_type": "code",
   "execution_count": 1,
   "metadata": {},
   "outputs": [],
   "source": [
    "import pandas as pd\n",
    "from django_pandas.io import read_frame"
   ]
  },
  {
   "cell_type": "code",
   "execution_count": 20,
   "metadata": {},
   "outputs": [],
   "source": [
    "from mec.models import Contribution, Address, Contributor, District"
   ]
  },
  {
   "cell_type": "code",
   "execution_count": 22,
   "metadata": {},
   "outputs": [
    {
     "data": {
      "text/plain": [
       "<QuerySet [<Address: 4656 Baumgartner Rd, Saint Louis, MO 63129>, <Address: 3114 Woodbridge Est Drive, Oakville, MO 63129>, <Address: 2957 Sean Pkwy, St Louis, MO 63129-4512>, <Address: 5909 Cardinal Creek Dr, St Louis, MO 63129-4662>, <Address: 2404 Boardwalk Place Drive, St Louis, MO 63129-4853>, <Address: 5806 Southcrest Way, St Louis, MO 63129>, <Address: 3775 Gumtree Ln, St Louis, MO 63129>, <Address: 7186 Christopher, St Louis, MO 63129>, <Address: 3520 Jeffco Blvd, Arnold, MO 63010>, <Address: 4029 Jeffco Blvd, Arnold, MO 63010>, <Address: 5921 Briarmist Pl, Saint Louis, MO 63128-4427>, <Address: 810 Jeffco Blvd, Arnold, MO 63010>, <Address: Mehlville, St Louis, MO 63129>, <Address: 6134 Pathfinder Dr, St Louis, MO 63129>, <Address: 5091 Baumgartner Road, St Louis, MO 63129>, <Address: 4173 Fairburn Ct, Saint Louis, MO 631297238>, <Address: 4949 Karington Place Dr, Saint Louis, MO 631297101>, <Address: 5132 Crosswood Dr, St Louis, MO 63129>, <Address: 2687 Sanders, St Louis, MO 63129>, <Address: 5050 Lampglow, St Louis, MO 63129>, '...(remaining elements truncated)...']>"
      ]
     },
     "execution_count": 22,
     "metadata": {},
     "output_type": "execute_result"
    }
   ],
   "source": [
    "Address.objects.filter(coordinates__contained=District.objects.get(number=95).boundaries)"
   ]
  },
  {
   "cell_type": "code",
   "execution_count": 26,
   "metadata": {},
   "outputs": [],
   "source": [
    "donors_95th = Contributor.objects.filter(address__coordinates__contained=District.objects.get(number=95).boundaries)"
   ]
  },
  {
   "cell_type": "code",
   "execution_count": 34,
   "metadata": {},
   "outputs": [],
   "source": [
    "contributions_95th = Contribution.objects.filter(contributor__address__coordinates__contained=District.objects.get(number=95).boundaries)"
   ]
  },
  {
   "cell_type": "code",
   "execution_count": 43,
   "metadata": {},
   "outputs": [],
   "source": [
    "df = read_frame(contributions_95th, fieldnames=[\n",
    "    'date',\n",
    "    'amount',\n",
    "    'recipient__name',\n",
    "    'contributor__committee__name',\n",
    "    'contributor__company__name',\n",
    "    'contributor__individual__first_name',\n",
    "    'contributor__individual__last_name',\n",
    "    'contributor__individual__employer',\n",
    "    'contributor__individual__occupation',\n",
    "    'contributor__address__address1'\n",
    "    \n",
    "])"
   ]
  },
  {
   "cell_type": "code",
   "execution_count": 44,
   "metadata": {},
   "outputs": [],
   "source": [
    "df = df.rename(columns={'amount':'Amount',\n",
    "                                 'date':'Date',\n",
    "                                 'recipient__name':'Recipient',\n",
    "                                 'contributor__individual__first_name':'First',\n",
    "                                'contributor__individual__last_name':'Last',\n",
    "                                'contributor__individual__employer':'Employer',\n",
    "                                'contributor__individual__occupation':'Occupation',\n",
    "                                'contributor__address__address1':'Address'})"
   ]
  },
  {
   "cell_type": "code",
   "execution_count": 50,
   "metadata": {},
   "outputs": [],
   "source": [
    "df1 = df.astype({'Amount':'float'})\n",
    "df1 = df1.groupby(['First','Last','Employer','Occupation','Address']).agg({'Amount':['mean','count','sum'],'Recipient': lambda x: pd.Series.mode(x)[0], 'Date':'max'}).sort_values(by=('Amount','count'),ascending=False)\n",
    "df1.columns = df1.columns.get_level_values(1)\n",
    "df1 = df1.rename(columns={'sum':'Total Amount ($)','count':'# of Donations','mean':'Avg Donation ($)','<lambda>':'Most Common Recipient','max':'Most Recent Donation'})\n",
    "df1.sort_values(by='# of Donations')\n",
    "df1.to_csv('95th- initial list.csv')"
   ]
  },
  {
   "cell_type": "code",
   "execution_count": 49,
   "metadata": {},
   "outputs": [],
   "source": [
    "df1.to_csv('mo_83_clean.csv')"
   ]
  },
  {
   "cell_type": "code",
   "execution_count": 270,
   "metadata": {},
   "outputs": [],
   "source": [
    "df2 = pd.read_csv('vanphonenumbers.csv').rename(columns={'Last Name':'Last','First Name':'First'})\n",
    "df4 = pd.read_csv('vanphonenumbers2.csv').rename(columns={'Last Name':'Last','First Name':'First'})\n",
    "df5 = pd.read_csv('vanphonenumbers3.csv',low_memory=False).rename(columns={'Last Name':'Last','First Name':'First'})\n",
    "df2['Phone Number'] = df2['Phone Number'].astype(str)\n",
    "df4['Phone Number'] = df4['Phone Number'].astype(str)\n",
    "# df5['Phone Number'] = df5['Phone Number'].astype(str)\n",
    "# df6 = df2.merge(df4,left_on='Phone Number')\n",
    "df6 = pd.concat([df2,df4,df5]).drop_duplicates()"
   ]
  },
  {
   "cell_type": "code",
   "execution_count": 271,
   "metadata": {
    "collapsed": true,
    "jupyter": {
     "outputs_hidden": true
    }
   },
   "outputs": [
    {
     "name": "stderr",
     "output_type": "stream",
     "text": [
      "/home/tyler/.virtualenvs/thesis/lib/python3.6/site-packages/ipykernel_launcher.py:3: SettingWithCopyWarning: \n",
      "A value is trying to be set on a copy of a slice from a DataFrame.\n",
      "Try using .loc[row_indexer,col_indexer] = value instead\n",
      "\n",
      "See the caveats in the documentation: https://pandas.pydata.org/pandas-docs/stable/user_guide/indexing.html#returning-a-view-versus-a-copy\n",
      "  This is separate from the ipykernel package so we can avoid doing imports until\n"
     ]
    },
    {
     "data": {
      "text/html": [
       "<div>\n",
       "<style scoped>\n",
       "    .dataframe tbody tr th:only-of-type {\n",
       "        vertical-align: middle;\n",
       "    }\n",
       "\n",
       "    .dataframe tbody tr th {\n",
       "        vertical-align: top;\n",
       "    }\n",
       "\n",
       "    .dataframe thead th {\n",
       "        text-align: right;\n",
       "    }\n",
       "</style>\n",
       "<table border=\"1\" class=\"dataframe\">\n",
       "  <thead>\n",
       "    <tr style=\"text-align: right;\">\n",
       "      <th></th>\n",
       "      <th>First</th>\n",
       "      <th>Last</th>\n",
       "      <th>Employer</th>\n",
       "      <th>Occupation</th>\n",
       "      <th>Address</th>\n",
       "      <th>Avg Donation ($)</th>\n",
       "      <th># of Donations</th>\n",
       "      <th>Total Amount ($)</th>\n",
       "      <th>Most Common Recipient</th>\n",
       "      <th>Most Recent Donation</th>\n",
       "      <th>Phone Number</th>\n",
       "      <th>Is Cell?</th>\n",
       "      <th>Is Preferred?</th>\n",
       "    </tr>\n",
       "  </thead>\n",
       "  <tbody>\n",
       "    <tr>\n",
       "      <th>0</th>\n",
       "      <td>Jeanne</td>\n",
       "      <td>Kirkton</td>\n",
       "      <td>Requested</td>\n",
       "      <td>Requested</td>\n",
       "      <td>659 Tuxedo</td>\n",
       "      <td>130.91</td>\n",
       "      <td>92</td>\n",
       "      <td>12044</td>\n",
       "      <td>IstMo Nominee Pac Number Two</td>\n",
       "      <td>2020-03-31</td>\n",
       "      <td>NA</td>\n",
       "      <td>NA</td>\n",
       "      <td>NA</td>\n",
       "    </tr>\n",
       "    <tr>\n",
       "      <th>1</th>\n",
       "      <td>Michele</td>\n",
       "      <td>Bunch</td>\n",
       "      <td>Farmers Insurance</td>\n",
       "      <td>Field Claims Supervisor</td>\n",
       "      <td>3721 Regal Pl</td>\n",
       "      <td>7.68</td>\n",
       "      <td>85</td>\n",
       "      <td>652</td>\n",
       "      <td>Feapac Of Missouri</td>\n",
       "      <td>2019-03-14</td>\n",
       "      <td>13144060059</td>\n",
       "      <td>Verified Cell</td>\n",
       "      <td>0</td>\n",
       "    </tr>\n",
       "    <tr>\n",
       "      <th>2</th>\n",
       "      <td>Michele</td>\n",
       "      <td>Bunch</td>\n",
       "      <td>Farmers Insurance</td>\n",
       "      <td>Field Claims Supervisor</td>\n",
       "      <td>3721 Regal Pl</td>\n",
       "      <td>7.68</td>\n",
       "      <td>85</td>\n",
       "      <td>652</td>\n",
       "      <td>Feapac Of Missouri</td>\n",
       "      <td>2019-03-14</td>\n",
       "      <td>16363299572</td>\n",
       "      <td>Likely Not a Cell</td>\n",
       "      <td>0</td>\n",
       "    </tr>\n",
       "    <tr>\n",
       "      <th>3</th>\n",
       "      <td>Beth</td>\n",
       "      <td>Newman</td>\n",
       "      <td>Kipp Saint Louis</td>\n",
       "      <td>Speech Language Pathologist</td>\n",
       "      <td>7401 Gayola Place</td>\n",
       "      <td>32.44</td>\n",
       "      <td>85</td>\n",
       "      <td>2757</td>\n",
       "      <td>Elad Gross For Missouri</td>\n",
       "      <td>2020-03-31</td>\n",
       "      <td>13146013113</td>\n",
       "      <td>Likely Not a Cell</td>\n",
       "      <td>0</td>\n",
       "    </tr>\n",
       "    <tr>\n",
       "      <th>4</th>\n",
       "      <td>Beth</td>\n",
       "      <td>Newman</td>\n",
       "      <td>Kipp Saint Louis</td>\n",
       "      <td>Speech Language Pathologist</td>\n",
       "      <td>7401 Gayola Place</td>\n",
       "      <td>32.44</td>\n",
       "      <td>85</td>\n",
       "      <td>2757</td>\n",
       "      <td>Elad Gross For Missouri</td>\n",
       "      <td>2020-03-31</td>\n",
       "      <td>13143153425</td>\n",
       "      <td>Likely Cell</td>\n",
       "      <td>0</td>\n",
       "    </tr>\n",
       "    <tr>\n",
       "      <th>...</th>\n",
       "      <td>...</td>\n",
       "      <td>...</td>\n",
       "      <td>...</td>\n",
       "      <td>...</td>\n",
       "      <td>...</td>\n",
       "      <td>...</td>\n",
       "      <td>...</td>\n",
       "      <td>...</td>\n",
       "      <td>...</td>\n",
       "      <td>...</td>\n",
       "      <td>...</td>\n",
       "      <td>...</td>\n",
       "      <td>...</td>\n",
       "    </tr>\n",
       "    <tr>\n",
       "      <th>3918</th>\n",
       "      <td>Jim</td>\n",
       "      <td>Schallom</td>\n",
       "      <td>Sherwood Forest</td>\n",
       "      <td>Nonprofit Management</td>\n",
       "      <td>6029 Hartford Street</td>\n",
       "      <td>100.00</td>\n",
       "      <td>1</td>\n",
       "      <td>100</td>\n",
       "      <td>Team Clancy</td>\n",
       "      <td>2018-06-08</td>\n",
       "      <td>NA</td>\n",
       "      <td>NA</td>\n",
       "      <td>NA</td>\n",
       "    </tr>\n",
       "    <tr>\n",
       "      <th>3919</th>\n",
       "      <td>Jim</td>\n",
       "      <td>Mittino</td>\n",
       "      <td>City Of St Louis</td>\n",
       "      <td>Manager</td>\n",
       "      <td>5032 Murdoch Ave</td>\n",
       "      <td>100.00</td>\n",
       "      <td>1</td>\n",
       "      <td>100</td>\n",
       "      <td>Citizens For Tishaura O Jones</td>\n",
       "      <td>2014-03-14</td>\n",
       "      <td>NA</td>\n",
       "      <td>NA</td>\n",
       "      <td>NA</td>\n",
       "    </tr>\n",
       "    <tr>\n",
       "      <th>3920</th>\n",
       "      <td>Jim</td>\n",
       "      <td>Mcgivney</td>\n",
       "      <td>Retired</td>\n",
       "      <td>Retired</td>\n",
       "      <td>346 Tulip</td>\n",
       "      <td>75.00</td>\n",
       "      <td>1</td>\n",
       "      <td>75</td>\n",
       "      <td>Sarah Unsicker For State Representative</td>\n",
       "      <td>2016-10-03</td>\n",
       "      <td>NA</td>\n",
       "      <td>NA</td>\n",
       "      <td>NA</td>\n",
       "    </tr>\n",
       "    <tr>\n",
       "      <th>3921</th>\n",
       "      <td>Jim</td>\n",
       "      <td>Mccarthy</td>\n",
       "      <td>Not Employed</td>\n",
       "      <td>Not Employed</td>\n",
       "      <td>4964 Fyler Av Apt A</td>\n",
       "      <td>50.00</td>\n",
       "      <td>1</td>\n",
       "      <td>50</td>\n",
       "      <td>Megan Green For St Louis</td>\n",
       "      <td>2019-02-20</td>\n",
       "      <td>NA</td>\n",
       "      <td>NA</td>\n",
       "      <td>NA</td>\n",
       "    </tr>\n",
       "    <tr>\n",
       "      <th>3922</th>\n",
       "      <td>Zachary</td>\n",
       "      <td>Tebb</td>\n",
       "      <td>St AnthonyS</td>\n",
       "      <td>Physician</td>\n",
       "      <td>137 S Maple Ave</td>\n",
       "      <td>100.00</td>\n",
       "      <td>1</td>\n",
       "      <td>100</td>\n",
       "      <td>Patterson For Missouri</td>\n",
       "      <td>2018-03-01</td>\n",
       "      <td>NA</td>\n",
       "      <td>NA</td>\n",
       "      <td>NA</td>\n",
       "    </tr>\n",
       "  </tbody>\n",
       "</table>\n",
       "<p>3923 rows × 13 columns</p>\n",
       "</div>"
      ],
      "text/plain": [
       "        First      Last           Employer                   Occupation  \\\n",
       "0      Jeanne   Kirkton          Requested                    Requested   \n",
       "1     Michele     Bunch  Farmers Insurance      Field Claims Supervisor   \n",
       "2     Michele     Bunch  Farmers Insurance      Field Claims Supervisor   \n",
       "3        Beth    Newman   Kipp Saint Louis  Speech Language Pathologist   \n",
       "4        Beth    Newman   Kipp Saint Louis  Speech Language Pathologist   \n",
       "...       ...       ...                ...                          ...   \n",
       "3918      Jim  Schallom    Sherwood Forest         Nonprofit Management   \n",
       "3919      Jim   Mittino   City Of St Louis                      Manager   \n",
       "3920      Jim  Mcgivney            Retired                      Retired   \n",
       "3921      Jim  Mccarthy       Not Employed                 Not Employed   \n",
       "3922  Zachary      Tebb        St AnthonyS                    Physician   \n",
       "\n",
       "                   Address  Avg Donation ($)  # of Donations  \\\n",
       "0               659 Tuxedo            130.91              92   \n",
       "1            3721 Regal Pl              7.68              85   \n",
       "2            3721 Regal Pl              7.68              85   \n",
       "3        7401 Gayola Place             32.44              85   \n",
       "4        7401 Gayola Place             32.44              85   \n",
       "...                    ...               ...             ...   \n",
       "3918  6029 Hartford Street            100.00               1   \n",
       "3919      5032 Murdoch Ave            100.00               1   \n",
       "3920             346 Tulip             75.00               1   \n",
       "3921   4964 Fyler Av Apt A             50.00               1   \n",
       "3922       137 S Maple Ave            100.00               1   \n",
       "\n",
       "      Total Amount ($)                    Most Common Recipient  \\\n",
       "0                12044             IstMo Nominee Pac Number Two   \n",
       "1                  652                       Feapac Of Missouri   \n",
       "2                  652                       Feapac Of Missouri   \n",
       "3                 2757                  Elad Gross For Missouri   \n",
       "4                 2757                  Elad Gross For Missouri   \n",
       "...                ...                                      ...   \n",
       "3918               100                              Team Clancy   \n",
       "3919               100            Citizens For Tishaura O Jones   \n",
       "3920                75  Sarah Unsicker For State Representative   \n",
       "3921                50                 Megan Green For St Louis   \n",
       "3922               100                   Patterson For Missouri   \n",
       "\n",
       "     Most Recent Donation Phone Number           Is Cell? Is Preferred?  \n",
       "0              2020-03-31           NA                 NA            NA  \n",
       "1              2019-03-14  13144060059      Verified Cell             0  \n",
       "2              2019-03-14  16363299572  Likely Not a Cell             0  \n",
       "3              2020-03-31  13146013113  Likely Not a Cell             0  \n",
       "4              2020-03-31  13143153425        Likely Cell             0  \n",
       "...                   ...          ...                ...           ...  \n",
       "3918           2018-06-08           NA                 NA            NA  \n",
       "3919           2014-03-14           NA                 NA            NA  \n",
       "3920           2016-10-03           NA                 NA            NA  \n",
       "3921           2019-02-20           NA                 NA            NA  \n",
       "3922           2018-03-01           NA                 NA            NA  \n",
       "\n",
       "[3923 rows x 13 columns]"
      ]
     },
     "execution_count": 271,
     "metadata": {},
     "output_type": "execute_result"
    }
   ],
   "source": [
    "df2 = df6\n",
    "df2 = df2[['First','Last','Phone Number','Is Cell?','Is Preferred?']]\n",
    "df2['First'] = df2['First'].apply(lambda x: x.split()[0])\n",
    "# df4 = df4[['First','Last','Phone Number','Is Cell?','Is Preferred?']]\n",
    "# df4['First'] = df4['First'].apply(lambda x: x.split()[0])\n",
    "# df5 = df5[['First','Last','Phone Number','Is Cell?','Is Preferred?']]\n",
    "# df5['First'] = df5['First'].apply(lambda x: x.split()[0])\n",
    "df3 = df1.reset_index().merge(df2,on=['First','Last'],how='left') #.merge(df4,on=['First','Last',],how='left').merge(df5,on=['First','Last',],how='left')\n",
    "df3['Avg Donation ($)'] = df3['Avg Donation ($)'].round(2)\n",
    "df3['Total Amount ($)'] = df3['Total Amount ($)'].round().astype(int)\n",
    "# df3['Phone Number'] = df3['Phone Number_x'].combine_first(df3['Phone Number_y'])\n",
    "# df3 = df3.drop(columns=['Phone Number_x', 'Phone Number_y'])\n",
    "# df3['Is Cell?'] = df3['Is Cell?_x'].combine_first(df3['Is Cell?_y'])\n",
    "# df3 = df3.drop(columns=['Is Cell?_x', 'Is Cell?_y'])\n",
    "# df3['Is Preferred?'] = df3['Is Preferred?_x'].combine_first(df3['Is Preferred?_y'])\n",
    "# df3 = df3.drop(columns=['Is Preferred?_x', 'Is Preferred?_y'])\n",
    "df3 = df3.fillna('NA')\n",
    "df3"
   ]
  },
  {
   "cell_type": "code",
   "execution_count": 276,
   "metadata": {},
   "outputs": [
    {
     "data": {
      "text/plain": [
       "2891"
      ]
     },
     "execution_count": 276,
     "metadata": {},
     "output_type": "execute_result"
    }
   ],
   "source": [
    "len(df3[df3['Phone Number']!='NA']) #.drop_duplicates(subset=['First','Last']))"
   ]
  },
  {
   "cell_type": "code",
   "execution_count": 273,
   "metadata": {},
   "outputs": [],
   "source": [
    "df3.to_csv('MO83_w_numbers.csv',index=False)"
   ]
  },
  {
   "cell_type": "code",
   "execution_count": 278,
   "metadata": {},
   "outputs": [
    {
     "ename": "ValueError",
     "evalue": "could not broadcast input array from shape (3923,2) into shape (3923)",
     "output_type": "error",
     "traceback": [
      "\u001b[0;31m---------------------------------------------------------------------------\u001b[0m",
      "\u001b[0;31mValueError\u001b[0m                                Traceback (most recent call last)",
      "\u001b[0;32m<ipython-input-278-3c6bc8703ba6>\u001b[0m in \u001b[0;36m<module>\u001b[0;34m\u001b[0m\n\u001b[0;32m----> 1\u001b[0;31m \u001b[0mpd\u001b[0m\u001b[0;34m.\u001b[0m\u001b[0munique\u001b[0m\u001b[0;34m(\u001b[0m\u001b[0mdf3\u001b[0m\u001b[0;34m[\u001b[0m\u001b[0;34m[\u001b[0m\u001b[0;34m'Last'\u001b[0m\u001b[0;34m,\u001b[0m\u001b[0;34m'First'\u001b[0m\u001b[0;34m]\u001b[0m\u001b[0;34m]\u001b[0m\u001b[0;34m)\u001b[0m\u001b[0;34m\u001b[0m\u001b[0;34m\u001b[0m\u001b[0m\n\u001b[0m",
      "\u001b[0;32m~/.virtualenvs/thesis/lib/python3.6/site-packages/pandas/core/algorithms.py\u001b[0m in \u001b[0;36munique\u001b[0;34m(values)\u001b[0m\n\u001b[1;32m    370\u001b[0m     \"\"\"\n\u001b[1;32m    371\u001b[0m \u001b[0;34m\u001b[0m\u001b[0m\n\u001b[0;32m--> 372\u001b[0;31m     \u001b[0mvalues\u001b[0m \u001b[0;34m=\u001b[0m \u001b[0m_ensure_arraylike\u001b[0m\u001b[0;34m(\u001b[0m\u001b[0mvalues\u001b[0m\u001b[0;34m)\u001b[0m\u001b[0;34m\u001b[0m\u001b[0;34m\u001b[0m\u001b[0m\n\u001b[0m\u001b[1;32m    373\u001b[0m \u001b[0;34m\u001b[0m\u001b[0m\n\u001b[1;32m    374\u001b[0m     \u001b[0;32mif\u001b[0m \u001b[0mis_extension_array_dtype\u001b[0m\u001b[0;34m(\u001b[0m\u001b[0mvalues\u001b[0m\u001b[0;34m)\u001b[0m\u001b[0;34m:\u001b[0m\u001b[0;34m\u001b[0m\u001b[0;34m\u001b[0m\u001b[0m\n",
      "\u001b[0;32m~/.virtualenvs/thesis/lib/python3.6/site-packages/pandas/core/algorithms.py\u001b[0m in \u001b[0;36m_ensure_arraylike\u001b[0;34m(values)\u001b[0m\n\u001b[1;32m    212\u001b[0m             \u001b[0;32mif\u001b[0m \u001b[0misinstance\u001b[0m\u001b[0;34m(\u001b[0m\u001b[0mvalues\u001b[0m\u001b[0;34m,\u001b[0m \u001b[0mtuple\u001b[0m\u001b[0;34m)\u001b[0m\u001b[0;34m:\u001b[0m\u001b[0;34m\u001b[0m\u001b[0;34m\u001b[0m\u001b[0m\n\u001b[1;32m    213\u001b[0m                 \u001b[0mvalues\u001b[0m \u001b[0;34m=\u001b[0m \u001b[0mlist\u001b[0m\u001b[0;34m(\u001b[0m\u001b[0mvalues\u001b[0m\u001b[0;34m)\u001b[0m\u001b[0;34m\u001b[0m\u001b[0;34m\u001b[0m\u001b[0m\n\u001b[0;32m--> 214\u001b[0;31m             \u001b[0mvalues\u001b[0m \u001b[0;34m=\u001b[0m \u001b[0mconstruct_1d_object_array_from_listlike\u001b[0m\u001b[0;34m(\u001b[0m\u001b[0mvalues\u001b[0m\u001b[0;34m)\u001b[0m\u001b[0;34m\u001b[0m\u001b[0;34m\u001b[0m\u001b[0m\n\u001b[0m\u001b[1;32m    215\u001b[0m         \u001b[0;32melse\u001b[0m\u001b[0;34m:\u001b[0m\u001b[0;34m\u001b[0m\u001b[0;34m\u001b[0m\u001b[0m\n\u001b[1;32m    216\u001b[0m             \u001b[0mvalues\u001b[0m \u001b[0;34m=\u001b[0m \u001b[0mnp\u001b[0m\u001b[0;34m.\u001b[0m\u001b[0masarray\u001b[0m\u001b[0;34m(\u001b[0m\u001b[0mvalues\u001b[0m\u001b[0;34m)\u001b[0m\u001b[0;34m\u001b[0m\u001b[0;34m\u001b[0m\u001b[0m\n",
      "\u001b[0;32m~/.virtualenvs/thesis/lib/python3.6/site-packages/pandas/core/dtypes/cast.py\u001b[0m in \u001b[0;36mconstruct_1d_object_array_from_listlike\u001b[0;34m(values)\u001b[0m\n\u001b[1;32m   1477\u001b[0m     \u001b[0;31m# making a 1D array that contains list-likes is a bit tricky:\u001b[0m\u001b[0;34m\u001b[0m\u001b[0;34m\u001b[0m\u001b[0;34m\u001b[0m\u001b[0m\n\u001b[1;32m   1478\u001b[0m     \u001b[0mresult\u001b[0m \u001b[0;34m=\u001b[0m \u001b[0mnp\u001b[0m\u001b[0;34m.\u001b[0m\u001b[0mempty\u001b[0m\u001b[0;34m(\u001b[0m\u001b[0mlen\u001b[0m\u001b[0;34m(\u001b[0m\u001b[0mvalues\u001b[0m\u001b[0;34m)\u001b[0m\u001b[0;34m,\u001b[0m \u001b[0mdtype\u001b[0m\u001b[0;34m=\u001b[0m\u001b[0;34m\"object\"\u001b[0m\u001b[0;34m)\u001b[0m\u001b[0;34m\u001b[0m\u001b[0;34m\u001b[0m\u001b[0m\n\u001b[0;32m-> 1479\u001b[0;31m     \u001b[0mresult\u001b[0m\u001b[0;34m[\u001b[0m\u001b[0;34m:\u001b[0m\u001b[0;34m]\u001b[0m \u001b[0;34m=\u001b[0m \u001b[0mvalues\u001b[0m\u001b[0;34m\u001b[0m\u001b[0;34m\u001b[0m\u001b[0m\n\u001b[0m\u001b[1;32m   1480\u001b[0m     \u001b[0;32mreturn\u001b[0m \u001b[0mresult\u001b[0m\u001b[0;34m\u001b[0m\u001b[0;34m\u001b[0m\u001b[0m\n\u001b[1;32m   1481\u001b[0m \u001b[0;34m\u001b[0m\u001b[0m\n",
      "\u001b[0;31mValueError\u001b[0m: could not broadcast input array from shape (3923,2) into shape (3923)"
     ]
    }
   ],
   "source": [
    "pd.unique(df3[['Last','First']])"
   ]
  },
  {
   "cell_type": "code",
   "execution_count": 289,
   "metadata": {},
   "outputs": [
    {
     "data": {
      "text/plain": [
       "Last     Larose\n",
       "First      Lisa\n",
       "Name: 500, dtype: object"
      ]
     },
     "execution_count": 289,
     "metadata": {},
     "output_type": "execute_result"
    }
   ],
   "source": [
    "df3.drop_duplicates(subset=['First','Last','Employer','Occupation']).reset_index().loc[500,['Last','First']]"
   ]
  },
  {
   "cell_type": "code",
   "execution_count": null,
   "metadata": {},
   "outputs": [],
   "source": []
  }
 ],
 "metadata": {
  "kernelspec": {
   "display_name": "Django Shell-Plus",
   "language": "python",
   "name": "django_extensions"
  },
  "language_info": {
   "codemirror_mode": {
    "name": "ipython",
    "version": 3
   },
   "file_extension": ".py",
   "mimetype": "text/x-python",
   "name": "python",
   "nbconvert_exporter": "python",
   "pygments_lexer": "ipython3",
   "version": "3.8.3"
  }
 },
 "nbformat": 4,
 "nbformat_minor": 4
}
